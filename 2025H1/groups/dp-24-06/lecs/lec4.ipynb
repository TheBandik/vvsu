{
 "cells": [
  {
   "attachments": {},
   "cell_type": "markdown",
   "metadata": {},
   "source": [
    "# Декораторы"
   ]
  },
  {
   "cell_type": "markdown",
   "metadata": {},
   "source": [
    "Функции в Python являются объектами. Это значит, что их можно присваивать переменным."
   ]
  },
  {
   "cell_type": "code",
   "execution_count": 4,
   "metadata": {},
   "outputs": [
    {
     "name": "stdout",
     "output_type": "stream",
     "text": [
      "8\n"
     ]
    }
   ],
   "source": [
    "def calc(a, b):\n",
    "    return a + b\n",
    "\n",
    "sum = calc\n",
    "\n",
    "print(sum(3, 5))"
   ]
  },
  {
   "cell_type": "markdown",
   "metadata": {},
   "source": [
    "Функции можно определять внутри других функций."
   ]
  },
  {
   "cell_type": "code",
   "execution_count": 2,
   "metadata": {},
   "outputs": [
    {
     "name": "stdout",
     "output_type": "stream",
     "text": [
      "Hello!\n"
     ]
    }
   ],
   "source": [
    "def talk():\n",
    "\n",
    "    def say_hello():\n",
    "        return 'Hello!'\n",
    "    \n",
    "    print(say_hello())\n",
    "\n",
    "talk()"
   ]
  },
  {
   "cell_type": "markdown",
   "metadata": {},
   "source": [
    "Вне функции внутренние функции не доступны"
   ]
  },
  {
   "cell_type": "code",
   "execution_count": 3,
   "metadata": {},
   "outputs": [
    {
     "ename": "NameError",
     "evalue": "name 'say_hello' is not defined",
     "output_type": "error",
     "traceback": [
      "\u001b[1;31m---------------------------------------------------------------------------\u001b[0m",
      "\u001b[1;31mNameError\u001b[0m                                 Traceback (most recent call last)",
      "Cell \u001b[1;32mIn [3], line 8\u001b[0m\n\u001b[0;32m      4\u001b[0m         \u001b[39mreturn\u001b[39;00m \u001b[39m'\u001b[39m\u001b[39mHello!\u001b[39m\u001b[39m'\u001b[39m\n\u001b[0;32m      6\u001b[0m     \u001b[39mprint\u001b[39m(say_hello())\n\u001b[1;32m----> 8\u001b[0m say_hello()\n",
      "\u001b[1;31mNameError\u001b[0m: name 'say_hello' is not defined"
     ]
    }
   ],
   "source": [
    "def talk():\n",
    "\n",
    "    def say_hello():\n",
    "        return 'Hello!'\n",
    "    \n",
    "    print(say_hello())\n",
    "\n",
    "say_hello()"
   ]
  },
  {
   "cell_type": "markdown",
   "metadata": {},
   "source": [
    "Одна функция может вернуть другую функцию."
   ]
  },
  {
   "cell_type": "code",
   "execution_count": 10,
   "metadata": {},
   "outputs": [
    {
     "name": "stdout",
     "output_type": "stream",
     "text": [
      "<function get_voice_pet.<locals>.cat_voice at 0x000001992376C0D0>\n",
      "Auf!\n"
     ]
    }
   ],
   "source": [
    "def get_voice_pet(pet):\n",
    "\n",
    "    def cat_voice():\n",
    "        return 'Meow!'\n",
    "    \n",
    "    def dog_voice():\n",
    "        return 'Auf!'\n",
    "\n",
    "    if pet == 'cat':\n",
    "        return cat_voice\n",
    "    elif pet == 'dog':\n",
    "        return dog_voice\n",
    "\n",
    "voice = get_voice_pet\n",
    "\n",
    "print(voice('cat'))\n",
    "\n",
    "print(voice('dog')())"
   ]
  },
  {
   "cell_type": "markdown",
   "metadata": {},
   "source": [
    "Функции можно передавать как аргументы другим функциям. Таким образом декораторы являются обёртками для других функций, которые дают возможность делать что-либо до и после того, что сделает декорируемая функция, не изменяя её."
   ]
  },
  {
   "cell_type": "code",
   "execution_count": 12,
   "metadata": {},
   "outputs": [
    {
     "name": "stdout",
     "output_type": "stream",
     "text": [
      "Ты решил добоавить новую задачу? Сейчас сделаю\n",
      "Ничего не добавил\n",
      "Я не умею читать мысли, задачу ты не написал\n"
     ]
    }
   ],
   "source": [
    "def add_task():\n",
    "    return 'Ничего не добавил'\n",
    "\n",
    "def todo(func):\n",
    "    print('Ты решил добоавить новую задачу? Сейчас сделаю')\n",
    "    print(func())\n",
    "    print('Я не умею читать мысли, задачу ты не написал')\n",
    "\n",
    "todo(add_task)"
   ]
  },
  {
   "cell_type": "code",
   "execution_count": 14,
   "metadata": {},
   "outputs": [
    {
     "name": "stdout",
     "output_type": "stream",
     "text": [
      "Я простая одинокая функция\n",
      "\n",
      "\n",
      "Делаю что-то до вызова функции\n",
      "Я простая одинокая функция\n",
      "Делаю что-то после вызова функции\n"
     ]
    }
   ],
   "source": [
    "def my_decorator(a_function_to_decorate):\n",
    "\n",
    "    def wrapper():\n",
    "        print('Делаю что-то до вызова функции')\n",
    "\n",
    "        a_function_to_decorate()\n",
    "\n",
    "        print('Делаю что-то после вызова функции')\n",
    "\n",
    "    return wrapper\n",
    "\n",
    "def alone_function():\n",
    "    print ('Я простая одинокая функция')\n",
    " \n",
    "alone_function()\n",
    "\n",
    "print('\\n')\n",
    "\n",
    "alone_function_decorated = my_decorator(alone_function)\n",
    "alone_function_decorated()\n"
   ]
  },
  {
   "cell_type": "markdown",
   "metadata": {},
   "source": [
    "Декораторы можно записывать в более минималистичном виде."
   ]
  },
  {
   "cell_type": "code",
   "execution_count": 15,
   "metadata": {},
   "outputs": [
    {
     "name": "stdout",
     "output_type": "stream",
     "text": [
      "Делаю что-то до вызова функции\n",
      "Я простая одинокая функция\n",
      "Делаю что-то после вызова функции\n"
     ]
    }
   ],
   "source": [
    "def my_decorator(a_function_to_decorate):\n",
    "\n",
    "    def wrapper():\n",
    "        print('Делаю что-то до вызова функции')\n",
    "\n",
    "        a_function_to_decorate()\n",
    "\n",
    "        print('Делаю что-то после вызова функции')\n",
    "\n",
    "    return wrapper\n",
    "\n",
    "@my_decorator\n",
    "def alone_function():\n",
    "    print ('Я простая одинокая функция')\n",
    " \n",
    "\n",
    "alone_function()"
   ]
  },
  {
   "cell_type": "markdown",
   "metadata": {},
   "source": [
    "Декораторы можно вкладывать друг в друга."
   ]
  },
  {
   "cell_type": "code",
   "execution_count": 1,
   "metadata": {},
   "outputs": [
    {
     "name": "stdout",
     "output_type": "stream",
     "text": [
      "</------\\>\n",
      "#помидоры#\n",
      "Котлета\n",
      "~салат~\n",
      "<\\______/>\n"
     ]
    }
   ],
   "source": [
    "def bread(func):\n",
    "    def wrapper():\n",
    "        print('</------\\>')\n",
    "        func()\n",
    "        print('<\\______/>')\n",
    "    return wrapper\n",
    " \n",
    "def ingredients(func):\n",
    "    def wrapper():\n",
    "        print ('#помидоры#')\n",
    "        func()\n",
    "        print ('~салат~')\n",
    "    return wrapper\n",
    "\n",
    "@bread\n",
    "@ingredients\n",
    "def sandwich(food='Котлета'):\n",
    "    print(food)\n",
    "\n",
    "sandwich()\n"
   ]
  },
  {
   "cell_type": "code",
   "execution_count": 4,
   "metadata": {},
   "outputs": [
    {
     "name": "stdout",
     "output_type": "stream",
     "text": [
      "#помидоры#\n",
      "</------\\>\n",
      "Котлета\n",
      "<\\______/>\n",
      "~салат~\n"
     ]
    }
   ],
   "source": [
    "def bread(func):\n",
    "    def wrapper(food):\n",
    "        print('</------\\>')\n",
    "        func(food)\n",
    "        print('<\\______/>')\n",
    "    return wrapper\n",
    " \n",
    "def ingredients(func):\n",
    "    def wrapper(food):\n",
    "        print ('#помидоры#')\n",
    "        func(food)\n",
    "        print ('~салат~')\n",
    "    return wrapper\n",
    "\n",
    "@ingredients\n",
    "@bread\n",
    "def sandwich(food):\n",
    "    print(food)\n",
    "\n",
    "sandwich('Котлета')\n"
   ]
  },
  {
   "cell_type": "code",
   "execution_count": 4,
   "metadata": {},
   "outputs": [
    {
     "name": "stdout",
     "output_type": "stream",
     "text": [
      "5\n",
      "Делаю что-то до вызова функции\n",
      "Я простая одинокая функция\n",
      "Делаю что-то после вызова функции\n"
     ]
    }
   ],
   "source": [
    "def deractor_for_decorator(arg):\n",
    "\n",
    "    def my_decorator(a_function_to_decorate):\n",
    "        \n",
    "        print(arg)\n",
    "\n",
    "        def wrapper():\n",
    "            print('Делаю что-то до вызова функции')\n",
    "\n",
    "            a_function_to_decorate()\n",
    "\n",
    "            print('Делаю что-то после вызова функции')\n",
    "\n",
    "        return wrapper\n",
    "    \n",
    "    return my_decorator\n",
    "\n",
    "@deractor_for_decorator(5)\n",
    "def alone_function():\n",
    "    print ('Я простая одинокая функция')\n",
    " \n",
    "\n",
    "alone_function()"
   ]
  },
  {
   "cell_type": "code",
   "execution_count": 5,
   "metadata": {},
   "outputs": [
    {
     "name": "stdout",
     "output_type": "stream",
     "text": [
      "Котик сказал Meow!\n"
     ]
    }
   ],
   "source": [
    "class Cat():\n",
    "    def __init__(self, name, age):\n",
    "        self.name = name\n",
    "        self.age = age\n",
    "    \n",
    "    def say(self, word):\n",
    "        print(f'Котик сказал {word}')\n",
    "\n",
    "\n",
    "cat = Cat('Борис', 3)\n",
    "cat.say('Meow!')"
   ]
  },
  {
   "cell_type": "code",
   "execution_count": 2,
   "metadata": {},
   "outputs": [
    {
     "name": "stdout",
     "output_type": "stream",
     "text": [
      "2\n"
     ]
    }
   ],
   "source": [
    "class Cat():\n",
    "    \n",
    "    cats = 0\n",
    "\n",
    "    def __init__(self, name='Кот', age=2):\n",
    "        self.name = 'Кот'\n",
    "        self.age = age\n",
    "        Cat.cats += 1\n",
    "    \n",
    "    def say(self, word):\n",
    "        print(f'Котик сказал {word}')\n",
    "    \n",
    "    @classmethod\n",
    "    def count_cats(self):\n",
    "        print(Cat.cats)\n",
    "\n",
    "\n",
    "cat = Cat('Борис', 3)\n",
    "cat2 = Cat('Лёша', 3)\n",
    "\n",
    "Cat.count_cats()\n"
   ]
  },
  {
   "cell_type": "code",
   "execution_count": null,
   "metadata": {},
   "outputs": [],
   "source": []
  },
  {
   "cell_type": "code",
   "execution_count": 20,
   "metadata": {},
   "outputs": [
    {
     "name": "stdout",
     "output_type": "stream",
     "text": [
      "Котик сказал Meow!\n"
     ]
    }
   ],
   "source": [
    "class Cat():\n",
    "    def __init__(self, name, age):\n",
    "        self.name = name\n",
    "        self.age = age\n",
    "    \n",
    "    @staticmethod\n",
    "    def say(word):\n",
    "        print(f'Котик сказал {word}')\n",
    "\n",
    "\n",
    "cat = Cat('Борис', 3)\n",
    "Cat.say('Meow!')"
   ]
  },
  {
   "cell_type": "code",
   "execution_count": null,
   "metadata": {},
   "outputs": [],
   "source": []
  }
 ],
 "metadata": {
  "kernelspec": {
   "display_name": "Python 3.11.0 64-bit",
   "language": "python",
   "name": "python3"
  },
  "language_info": {
   "codemirror_mode": {
    "name": "ipython",
    "version": 3
   },
   "file_extension": ".py",
   "mimetype": "text/x-python",
   "name": "python",
   "nbconvert_exporter": "python",
   "pygments_lexer": "ipython3",
   "version": "3.11.0 (main, Oct 24 2022, 18:26:48) [MSC v.1933 64 bit (AMD64)]"
  },
  "orig_nbformat": 4,
  "vscode": {
   "interpreter": {
    "hash": "1b032452825cfb918ba2aa96def1bfe72203d70ad656b993aaacfcdaaaef8735"
   }
  }
 },
 "nbformat": 4,
 "nbformat_minor": 2
}
