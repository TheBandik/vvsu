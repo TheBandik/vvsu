{
 "cells": [
  {
   "attachments": {},
   "cell_type": "markdown",
   "metadata": {},
   "source": [
    "# Инкапсуляция\n",
    "\n",
    "## Определение\n",
    "\n",
    "Под инкапсуляцией (encapsulation, что можно перевести по-разному, но на нужные ассоциации хорошо наводит слово \"обволакивание\") понимается сокрытие информации о внутреннем устройстве объекта, при котором работа с объектом может вестись только через его общедоступный (public) интерфейс. Таким образом, другие объекты не должны вмешиваться в \"дела\" объекта, кроме как используя вызовы методов.\n",
    "\n",
    "В языке Python инкапсуляции не придается принципиального значения: ее соблюдение зависит от дисциплинированности программиста. В других языках программирования имеются определенные градации доступности методов объекта.\n",
    "\n",
    "## Доступ к свойствам\n",
    "\n",
    "В языке Python не считается зазорным получить доступ к некоторому атрибуту (не методу) напрямую, если, конечно, этот атрибут описан в документации как часть интерфейса класса. Такие атрибуты называются свойствами (properties). В других языках программирования принято для доступа к свойствам создавать специальные методы (вместо того чтобы напрямую обращаться к общедоступным членам-данным). В Python достаточно использовать ссылку на атрибут, если свойство ни на что в объекте не влияет (то есть другие объекты могут его произвольно менять). Для получения данных используются геттеры, а для изменения - сеттеры."
   ]
  },
  {
   "cell_type": "code",
   "execution_count": 6,
   "metadata": {},
   "outputs": [
    {
     "name": "stdout",
     "output_type": "stream",
     "text": [
      "Вася\n"
     ]
    }
   ],
   "source": [
    "class Cat():\n",
    "    def __init__(self, name, age):\n",
    "        self.name = name\n",
    "        self.age = age\n",
    "    \n",
    "    def get_name(self):\n",
    "        return self.name\n",
    "    \n",
    "    def get_age(self):\n",
    "        return self.age\n",
    "    \n",
    "    def set_name(self, new_name):\n",
    "        self.name = new_name\n",
    "    \n",
    "    def set_age(self, new_age):\n",
    "        self.age = new_age\n",
    "\n",
    "kitty = Cat('Лёша', 3)\n",
    "kitty.set_name('Вася')\n",
    "\n",
    "print(kitty.get_name())"
   ]
  },
  {
   "attachments": {},
   "cell_type": "markdown",
   "metadata": {},
   "source": [
    "## Сокрытие данных\n",
    "\n",
    "Подчеркивание ```_``` в начале имени атрибута указывает на то, что он не входит в общедоступный интерфейс. Обычно применяется одиночное подчеркивание, которое в языке не играет особой роли, но как бы говорит программисту: \"этот метод только для внутреннего использования\". \n",
    "\n",
    "Двойное подчеркивание работает как указание на то, что атрибут - приватный. При этом атрибут все же доступен, но уже под другим именем, что и иллюстрируется ниже:"
   ]
  },
  {
   "cell_type": "code",
   "execution_count": 24,
   "metadata": {},
   "outputs": [
    {
     "name": "stdout",
     "output_type": "stream",
     "text": [
      "Значение x: 0\n",
      "Значение y: 1\n",
      "Значение z: 2\n",
      "Сумма: 3\n"
     ]
    }
   ],
   "source": [
    "class Example():\n",
    "    def __init__(self):\n",
    "        self.x = 0 # public\n",
    "        self._y = 1 # protected\n",
    "        self.__z = 2 # private\n",
    "\n",
    "    def get_z(self):\n",
    "        print('Вы получили доступ на чтение атрибута z')\n",
    "        return self.__z\n",
    "\n",
    "    def set_z(self, value):\n",
    "        self.__z = value\n",
    "        print(f'Атрибуту z присвоено новое значение: {self.__z}')\n",
    "\n",
    "    def __calc(self):\n",
    "        return self.x + self._y + self.__z\n",
    "    \n",
    "    def repres(self):\n",
    "        print(f'Значение x: {self.x}')\n",
    "        print(f'Значение y: {self._y}')\n",
    "        print(f'Значение z: {self.__z}')\n",
    "        print(f'Сумма: {self.__calc()}')\n",
    "\n",
    "\n",
    "ex = Example()\n",
    "\n",
    "ex.repres()"
   ]
  },
  {
   "attachments": {},
   "cell_type": "markdown",
   "metadata": {},
   "source": [
    "## Примеры"
   ]
  },
  {
   "cell_type": "code",
   "execution_count": 22,
   "metadata": {},
   "outputs": [
    {
     "name": "stdout",
     "output_type": "stream",
     "text": [
      "Померло 199 тараканов\n",
      "Воздух загрязнён на 12.3\n",
      "666\n",
      "3\n"
     ]
    }
   ],
   "source": [
    "class StudentHouse():\n",
    "    def __init__(self, bugs, emigrants):\n",
    "        self.__bugs = bugs\n",
    "        self.emigrants = emigrants\n",
    "        self.rooms = 3\n",
    "\n",
    "    def kill_bugs(self, poison):\n",
    "        alive_bugs = self.__bugs - self.__bugs * poison // 100\n",
    "        print(f'Померло {self.__bugs - alive_bugs} тараканов')\n",
    "\n",
    "    def cook_karry(self):\n",
    "        print(f'Воздух загрязнён на {self.emigrants / 10}')\n",
    "\n",
    "    def get_bugs(self):\n",
    "        return self.__bugs\n",
    "\n",
    "    def set_bugs(self, count):\n",
    "        self.__bugs = count\n",
    "\n",
    "st = StudentHouse(666, 123)\n",
    "\n",
    "st.kill_bugs(30)\n",
    "st.cook_karry()\n",
    "print(st.get_bugs())\n",
    "st.set_bugs(3)\n",
    "print(st.get_bugs())"
   ]
  }
 ],
 "metadata": {
  "kernelspec": {
   "display_name": "Python 3",
   "language": "python",
   "name": "python3"
  },
  "language_info": {
   "codemirror_mode": {
    "name": "ipython",
    "version": 3
   },
   "file_extension": ".py",
   "mimetype": "text/x-python",
   "name": "python",
   "nbconvert_exporter": "python",
   "pygments_lexer": "ipython3",
   "version": "3.11.11"
  },
  "orig_nbformat": 4,
  "vscode": {
   "interpreter": {
    "hash": "1b032452825cfb918ba2aa96def1bfe72203d70ad656b993aaacfcdaaaef8735"
   }
  }
 },
 "nbformat": 4,
 "nbformat_minor": 2
}
