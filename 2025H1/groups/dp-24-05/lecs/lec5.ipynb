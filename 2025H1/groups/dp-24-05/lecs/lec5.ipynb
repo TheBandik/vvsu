{
 "cells": [
  {
   "cell_type": "markdown",
   "metadata": {},
   "source": [
    "# Абстрактные классы"
   ]
  },
  {
   "cell_type": "markdown",
   "metadata": {},
   "source": [
    "## Понятие абстрактного класса"
   ]
  },
  {
   "cell_type": "markdown",
   "metadata": {},
   "source": [
    "Абстрактным классом называется класс, который содержит абстрактные методы (методы объявленные, но не реализованные). Экземпляры этого класса создавать нельзя, можно только наследоваться от него.\n",
    "\n",
    "Абстрактный класс — это максимально абстрактная, о-о-о-чень приблизительная «заготовка» для группы будущих классов. Эту заготовку нельзя использовать в готовом виде — слишком «сырая». Но она описывает некое общее состояние и поведение, которым будут обладать будущие классы — наследники абстрактного класса.\n",
    "\n",
    "Особенности:\n",
    "\n",
    "+ Абстрактный класс не содержит всех реализаций методов, необходимых для полной работы, это означает, что он содержит один или несколько абстрактных методов. Абстрактный метод - это только объявление метода, без его подробной реализации.\n",
    "+ Абстрактный класс предоставляет интерфейс для подклассов, чтобы избежать дублирования кода. Нет смысла создавать экземпляр абстрактного класса.\n",
    "+ Производный подкласс должен реализовать абстрактные методы для создания конкретного класса, который соответствует интерфейсу, определенному абстрактным классом. Следовательно, экземпляр не может быть создан, пока не будут переопределены все его абстрактные методы.\n",
    "\n",
    "Короче говоря, абстрактный класс определяет общий интерфейс для набора подклассов. Он предоставляет общие атрибуты и методы для всех подклассов, чтобы уменьшить дублирование кода. Он также заставляет подклассы реализовывать абстрактные методы, чтобы избежать каких-то несоответствий."
   ]
  },
  {
   "cell_type": "markdown",
   "metadata": {},
   "source": [
    "## Определение абстрактного класса в Python."
   ]
  },
  {
   "cell_type": "markdown",
   "metadata": {},
   "source": [
    "Python поставляется с модулем под названием abc, который предоставляет полезные вещи для абстрактного класса. Абстрактный класс можно определить с помощью класса abc.ABC, а абстрактный метод определить с помощью abc.abstractmethod. ABC - это аббревиатура, сокращение от слов абстрактный базовый класс."
   ]
  },
  {
   "cell_type": "code",
   "execution_count": 1,
   "metadata": {},
   "outputs": [],
   "source": [
    "from abc import ABC, abstractmethod"
   ]
  },
  {
   "cell_type": "code",
   "execution_count": 2,
   "metadata": {},
   "outputs": [
    {
     "ename": "TypeError",
     "evalue": "Can't instantiate abstract class Animal with abstract method voice",
     "output_type": "error",
     "traceback": [
      "\u001b[0;31m---------------------------------------------------------------------------\u001b[0m",
      "\u001b[0;31mTypeError\u001b[0m                                 Traceback (most recent call last)",
      "Cell \u001b[0;32mIn[2], line 10\u001b[0m\n\u001b[1;32m      6\u001b[0m     \u001b[38;5;129m@abstractmethod\u001b[39m\n\u001b[1;32m      7\u001b[0m     \u001b[38;5;28;01mdef\u001b[39;00m \u001b[38;5;21mvoice\u001b[39m(\u001b[38;5;28mself\u001b[39m):\n\u001b[1;32m      8\u001b[0m         \u001b[38;5;28;01mpass\u001b[39;00m\n\u001b[0;32m---> 10\u001b[0m animal \u001b[38;5;241m=\u001b[39m \u001b[43mAnimal\u001b[49m\u001b[43m(\u001b[49m\u001b[43m)\u001b[49m\n\u001b[1;32m     11\u001b[0m \u001b[38;5;28mprint\u001b[39m(animal\u001b[38;5;241m.\u001b[39mmove())\n",
      "\u001b[0;31mTypeError\u001b[0m: Can't instantiate abstract class Animal with abstract method voice"
     ]
    }
   ],
   "source": [
    "class Animal(ABC):\n",
    "\n",
    "    def move(self):\n",
    "        print('Двигается')\n",
    "\n",
    "    @abstractmethod\n",
    "    def voice(self):\n",
    "        pass\n",
    "\n",
    "animal = Animal()\n",
    "print(animal.move())"
   ]
  },
  {
   "cell_type": "code",
   "execution_count": 3,
   "metadata": {},
   "outputs": [
    {
     "name": "stdout",
     "output_type": "stream",
     "text": [
      "Can't instantiate abstract class Animal with abstract method voice\n"
     ]
    }
   ],
   "source": [
    "try:\n",
    "    animal = Animal()\n",
    "except Exception as error:\n",
    "    print(error)"
   ]
  },
  {
   "cell_type": "markdown",
   "metadata": {},
   "source": [
    "## Немного про исключения"
   ]
  },
  {
   "cell_type": "markdown",
   "metadata": {},
   "source": [
    "Исключительные ситуации или исключения (exceptions) – это ошибки, обнаруженные при исполнении. Например, к чему приведет попытка чтения несуществующего файла? Или если файл был случайно удален пока программа работала? Такие ситуации обрабатываются при помощи исключений.\n",
    "\n",
    "Если же Python не может понять, как обойти сложившуюся ситуацию, то ему не остается ничего кроме как поднять руки и сообщить, что обнаружил ошибку. В общем, исключения необходимы, чтобы сообщать программисту об ошибках."
   ]
  },
  {
   "cell_type": "code",
   "execution_count": 4,
   "metadata": {},
   "outputs": [
    {
     "ename": "ZeroDivisionError",
     "evalue": "division by zero",
     "output_type": "error",
     "traceback": [
      "\u001b[1;31m---------------------------------------------------------------------------\u001b[0m",
      "\u001b[1;31mZeroDivisionError\u001b[0m                         Traceback (most recent call last)",
      "Cell \u001b[1;32mIn [4], line 1\u001b[0m\n\u001b[1;32m----> 1\u001b[0m \u001b[39m100\u001b[39;49m \u001b[39m/\u001b[39;49m \u001b[39m0\u001b[39;49m\n",
      "\u001b[1;31mZeroDivisionError\u001b[0m: division by zero"
     ]
    }
   ],
   "source": [
    "100 / 0"
   ]
  },
  {
   "cell_type": "code",
   "execution_count": null,
   "metadata": {},
   "outputs": [
    {
     "ename": "TypeError",
     "evalue": "unsupported operand type(s) for +: 'int' and 'str'",
     "output_type": "error",
     "traceback": [
      "\u001b[1;31m---------------------------------------------------------------------------\u001b[0m",
      "\u001b[1;31mTypeError\u001b[0m                                 Traceback (most recent call last)",
      "Cell \u001b[1;32mIn [33], line 1\u001b[0m\n\u001b[1;32m----> 1\u001b[0m \u001b[39m3\u001b[39;49m \u001b[39m+\u001b[39;49m \u001b[39m'\u001b[39;49m\u001b[39m5\u001b[39;49m\u001b[39m'\u001b[39;49m\n",
      "\u001b[1;31mTypeError\u001b[0m: unsupported operand type(s) for +: 'int' and 'str'"
     ]
    }
   ],
   "source": [
    "3 + '5'"
   ]
  },
  {
   "cell_type": "code",
   "execution_count": null,
   "metadata": {},
   "outputs": [
    {
     "ename": "ValueError",
     "evalue": "could not convert string to float: 'asf'",
     "output_type": "error",
     "traceback": [
      "\u001b[1;31m---------------------------------------------------------------------------\u001b[0m",
      "\u001b[1;31mValueError\u001b[0m                                Traceback (most recent call last)",
      "Cell \u001b[1;32mIn [34], line 1\u001b[0m\n\u001b[1;32m----> 1\u001b[0m \u001b[39mfloat\u001b[39;49m(\u001b[39m'\u001b[39;49m\u001b[39masf\u001b[39;49m\u001b[39m'\u001b[39;49m)\n",
      "\u001b[1;31mValueError\u001b[0m: could not convert string to float: 'asf'"
     ]
    }
   ],
   "source": [
    "float('asf')"
   ]
  },
  {
   "cell_type": "markdown",
   "metadata": {},
   "source": [
    "Рассмотрим иерархию встроенных в python исключений, хотя иногда вам могут встретиться и другие, так как программисты могут создавать собственные исключения.+ BaseException - базовое исключение, от которого берут начало все остальные.+ SystemExit - исключение, порождаемое функцией sys.exit при выходе из программы.+ KeyboardInterrupt - порождается при прерывании программы пользователем (обычно сочетанием клавиш Ctrl+C).+ GeneratorExit - порождается при вызове метода close объекта generator.+ Exception - а вот тут уже заканчиваются полностью системные исключения (которые лучше не трогать) и начинаются обыкновенные, с которыми можно работать.\n",
    "\n",
    "+ StopIteration - порождается встроенной функцией next, если в итераторе больше нет элементов.\n",
    "+ ArithmeticError - арифметическая ошибка.\n",
    "    + FloatingPointError - порождается при неудачном выполнении операции с плавающей запятой. На практике встречается нечасто.\n",
    "    + OverflowError - возникает, когда результат арифметической операции слишком велик для представления. Не появляется при обычной работе с целыми числами (так как pyth+ поддерживает длинные числа), но может возникать в некоторых других случаях.\n",
    "    + ZeroDivisionError - деление на ноль.\n",
    "+ AssertionError - выражение в функции assert ложно.\n",
    "+ AttributeError - объект не имеет данного атрибута (значения или метода).\n",
    "+ BufferError - операция, связанная с буфером, не может быть выполнена.\n",
    "+ EOFError - функция наткнулась на конец файла и не смогла прочитать то, что хотела.\n",
    "+ ImportError - не удалось импортирование модуля или его атрибута.\n",
    "+ LookupError - некорректный индекс или ключ.\n",
    "    + IndexError - индекс не входит в диапазон элементов.\n",
    "    + KeyError - несуществующий ключ (в словаре, множестве или другом объекте). \n",
    "+ MemoryError - недостаточно памяти.\n",
    "+ NameError - не найдено переменной с таким именем.\n",
    "    + UnboundLocalError - сделана ссылка на локальную переменную в функции, но переменная не определена ранее. \n",
    "+ OSError - ошибка, связанная с системой.\n",
    "    + BlockingIOError\n",
    "    + ChildProcessError - неудача при операции с дочерним процессом.\n",
    "    + ConnectionError - базовый класс для исключений, связанных с подключениями.\n",
    "        + BrokenPipeError\n",
    "        + ConnectionAbortedError\n",
    "        + ConnectionRefusedError\n",
    "        + ConnectionResetError\n",
    "    + FileExistsError - попытка создания файла или директории, которая уже существует.\n",
    "    + FileNotFoundError - файл или директория не существует.\n",
    "    + InterruptedError - системный вызов прерван входящим сигналом.\n",
    "    + IsADirectoryError - ожидался файл, но это директория.\n",
    "    + NotADirectoryError - ожидалась директория, но это файл.\n",
    "    + PermissionError - не хватает прав доступа.\n",
    "    + ProcessLookupError - указанного процесса не существует.\n",
    "    + TimeoutError - закончилось время ожидания.\n",
    "+ ReferenceError - попытка доступа к атрибуту со слабой ссылкой.\n",
    "+ RuntimeError - возникает, когда исключение не попадает ни под одну из других категорий.\n",
    "+ NotImplementedError - возникает, когда абстрактные методы класса требуют переопределения в дочерних классах.\n",
    "+ SyntaxError - синтаксическая ошибка.\n",
    "    + IndentationError - неправильные отступы.\n",
    "        + TabError - смешивание в отступах табуляции и пробелов.\n",
    "+ SystemError - внутренняя ошибка.\n",
    "+ TypeError - операция применена к объекту несоответствующего типа.\n",
    "+ ValueError - функция получает аргумент правильного типа, но некорректного значения.\n",
    "+ UnicodeError - ошибка, связанная с кодированием / раскодированием unicode в строках.\n",
    "    + UnicodeEncodeError - исключение, связанное с кодированием unicode.\n",
    "    + UnicodeDecodeError - исключение, связанное с декодированием unicode.\n",
    "    + UnicodeTranslateError - исключение, связанное с переводом unicode.\n",
    "+ Warning - предупреждение."
   ]
  },
  {
   "cell_type": "markdown",
   "metadata": {},
   "source": [
    "Декоратор @abstractmethod может использоваться для объявления абстрактных методов свойств и требует, чтобы метакласс класса был ABCMeta или производным от него. Абстрактный класс не может быть создан, пока не будут переопределены все его абстрактные методы и свойства."
   ]
  },
  {
   "cell_type": "code",
   "execution_count": 7,
   "metadata": {},
   "outputs": [
    {
     "name": "stdout",
     "output_type": "stream",
     "text": [
      "0.2\n"
     ]
    }
   ],
   "source": [
    "try:\n",
    "    k = 1 / 5\n",
    "except ZeroDivisionError as error:\n",
    "    k = 0\n",
    "\n",
    "print(k)"
   ]
  },
  {
   "cell_type": "code",
   "execution_count": 7,
   "metadata": {},
   "outputs": [
    {
     "name": "stdout",
     "output_type": "stream",
     "text": [
      "0\n"
     ]
    }
   ],
   "source": [
    "try:\n",
    "    k = 1 / 0\n",
    "except ArithmeticError:\n",
    "    k = 0\n",
    "\n",
    "print(k)"
   ]
  },
  {
   "cell_type": "code",
   "execution_count": 10,
   "metadata": {},
   "outputs": [
    {
     "name": "stdout",
     "output_type": "stream",
     "text": [
      "division by zero\n",
      "0\n"
     ]
    }
   ],
   "source": [
    "try:\n",
    "    k = 1 / 0\n",
    "except Exception as error:\n",
    "    k = 0\n",
    "    print(error)\n",
    "\n",
    "print(k)"
   ]
  },
  {
   "cell_type": "code",
   "execution_count": 4,
   "metadata": {},
   "outputs": [
    {
     "name": "stdout",
     "output_type": "stream",
     "text": [
      "Всё хорошо.\n",
      "Завершил.\n"
     ]
    }
   ],
   "source": [
    "f = '5'\n",
    "try:\n",
    "    int(f)\n",
    "except ValueError:\n",
    "    print('Это не число. Выходим.')\n",
    "except Exception:\n",
    "    print('Это что ещё такое?')\n",
    "else:\n",
    "    print('Всё хорошо.')\n",
    "finally:\n",
    "    print('Завершил.')"
   ]
  },
  {
   "cell_type": "markdown",
   "metadata": {},
   "source": [
    "## Наследование абстрактного класса"
   ]
  },
  {
   "cell_type": "code",
   "execution_count": 10,
   "metadata": {},
   "outputs": [],
   "source": [
    "class Raven(Animal):\n",
    "\n",
    "    def voice(self):\n",
    "        print('Карр')"
   ]
  },
  {
   "cell_type": "code",
   "execution_count": 11,
   "metadata": {},
   "outputs": [
    {
     "name": "stdout",
     "output_type": "stream",
     "text": [
      "Двигается\n"
     ]
    }
   ],
   "source": [
    "r = Raven()\n",
    "r.move()\n",
    "# r.voice()"
   ]
  },
  {
   "cell_type": "markdown",
   "metadata": {},
   "source": [
    "Совместно с декоратором @abstractmethod можно использовать такие декораторы, как @property, @classmethod и @staticmethod. Когда декоратор @abstractmethod применяется в сочетании с другими дескрипторами методов, его следует применять как самый внутренний декоратор"
   ]
  },
  {
   "cell_type": "code",
   "execution_count": 12,
   "metadata": {},
   "outputs": [],
   "source": [
    "class Shape(ABC):\n",
    "\n",
    "    @abstractmethod\n",
    "    def p(self):\n",
    "        pass\n",
    "\n",
    "    @abstractmethod\n",
    "    def s(self):\n",
    "        pass\n",
    "\n",
    "    @abstractmethod\n",
    "    def v(self):\n",
    "        pass"
   ]
  },
  {
   "cell_type": "code",
   "execution_count": 17,
   "metadata": {},
   "outputs": [],
   "source": [
    "class Rect(Shape):\n",
    "\n",
    "    def __init__(self, a):\n",
    "        self.a = a\n",
    "\n",
    "    def p(self):\n",
    "        print(f'P = {self.a * 4}')\n",
    "    \n",
    "    def s(self):\n",
    "        print(f'S = {self.a ** 2}')\n",
    "    \n",
    "    def v(self):\n",
    "        print(f'V = {self.a ** 3}')"
   ]
  },
  {
   "cell_type": "code",
   "execution_count": 18,
   "metadata": {},
   "outputs": [
    {
     "name": "stdout",
     "output_type": "stream",
     "text": [
      "P = 12\n",
      "S = 9\n"
     ]
    }
   ],
   "source": [
    "rect = Rect(3)\n",
    "\n",
    "rect.p()\n",
    "rect.s()\n",
    "# rect.v()"
   ]
  },
  {
   "cell_type": "markdown",
   "metadata": {},
   "source": [
    "Переопределение абстрактного метода"
   ]
  },
  {
   "cell_type": "code",
   "execution_count": 26,
   "metadata": {},
   "outputs": [
    {
     "name": "stdout",
     "output_type": "stream",
     "text": [
      "Enriched functionality\n"
     ]
    }
   ],
   "source": [
    "class Basic(ABC):\n",
    "    @abstractmethod\n",
    "    def hello(self):\n",
    "        print(\"Hello from Basic class\")\n",
    " \n",
    " \n",
    "class Advanced(Basic):\n",
    "    def hello(self):\n",
    "        # super().hello()\n",
    "        print(\"Enriched functionality\")\n",
    " \n",
    "a = Advanced()\n",
    "a.hello()"
   ]
  },
  {
   "cell_type": "markdown",
   "metadata": {},
   "source": [
    "## Вложенные классы"
   ]
  },
  {
   "cell_type": "code",
   "execution_count": 26,
   "metadata": {},
   "outputs": [],
   "source": [
    "class Human():\n",
    "\n",
    "    def __init__(self):\n",
    "        self.name = 'Николай'\n",
    "\n",
    "    def say(self):\n",
    "        print('Привет!')\n",
    "    \n",
    "    class Clothes():\n",
    "\n",
    "        def __init__(self):\n",
    "            self.material = 'Шерсть'\n",
    "\n",
    "        def wear(self):\n",
    "            print('Одежда на месте')\n"
   ]
  },
  {
   "cell_type": "code",
   "execution_count": 28,
   "metadata": {},
   "outputs": [
    {
     "name": "stdout",
     "output_type": "stream",
     "text": [
      "Николай\n",
      "<class '__main__.Human.Clothes'>\n"
     ]
    }
   ],
   "source": [
    "h = Human()\n",
    "\n",
    "print(h.name)\n",
    "print(h.Clothes)"
   ]
  },
  {
   "cell_type": "code",
   "execution_count": 31,
   "metadata": {},
   "outputs": [
    {
     "name": "stdout",
     "output_type": "stream",
     "text": [
      "Шерсть\n"
     ]
    }
   ],
   "source": [
    "w = h.Clothes()\n",
    "\n",
    "print(h.Clothes().material)"
   ]
  },
  {
   "cell_type": "code",
   "execution_count": null,
   "metadata": {},
   "outputs": [],
   "source": [
    "class Human():\n",
    "\n",
    "    def __init__(self):\n",
    "        self.name = 'Николай'\n",
    "        self.w = self.Clothes()\n",
    "\n",
    "    def say(self):\n",
    "        print('Привет!')\n",
    "    \n",
    "    class Clothes():\n",
    "\n",
    "        def __init__(self):\n",
    "            self.material = 'Шерсть'\n",
    "\n",
    "        def wear(self):\n",
    "            print('Одежда на месте')\n",
    "    \n",
    "        class Clothes():\n",
    "\n",
    "            def __init__(self):\n",
    "                self.material = 'Шерсть'\n",
    "\n",
    "            def wear(self):\n",
    "                print('Одежда на месте')"
   ]
  },
  {
   "cell_type": "code",
   "execution_count": 33,
   "metadata": {},
   "outputs": [
    {
     "name": "stdout",
     "output_type": "stream",
     "text": [
      "<__main__.Human.Clothes object at 0x000002B59FC5B250>\n"
     ]
    }
   ],
   "source": [
    "h = Human()\n",
    "\n",
    "print(h.w)"
   ]
  },
  {
   "cell_type": "code",
   "execution_count": 35,
   "metadata": {},
   "outputs": [
    {
     "name": "stdout",
     "output_type": "stream",
     "text": [
      "Шерсть\n",
      "Одежда на месте\n"
     ]
    }
   ],
   "source": [
    "print(h.w.material)\n",
    "h.w.wear()"
   ]
  }
 ],
 "metadata": {
  "kernelspec": {
   "display_name": "Python 3",
   "language": "python",
   "name": "python3"
  },
  "language_info": {
   "codemirror_mode": {
    "name": "ipython",
    "version": 3
   },
   "file_extension": ".py",
   "mimetype": "text/x-python",
   "name": "python",
   "nbconvert_exporter": "python",
   "pygments_lexer": "ipython3",
   "version": "3.11.11"
  },
  "orig_nbformat": 4
 },
 "nbformat": 4,
 "nbformat_minor": 2
}
