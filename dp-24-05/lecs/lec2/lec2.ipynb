{
 "cells": [
  {
   "attachments": {},
   "cell_type": "markdown",
   "metadata": {},
   "source": [
    "# Наследование\n",
    "\n",
    "## Определение\n",
    "\n",
    "Наследование - это процесс, посредством которого один объект может приобретать свойства другого. Точнее, объект может наследовать основные свойства другого объекта и добавлять к ним черты, характерные только для него.\n",
    "\n",
    "Наследование является важным, поскольку оно позволяет поддерживать концепцию иерархии классов. Применение иерархии классов делает управляемыми большие потоки информации.\n",
    "\n",
    "## Зачем нужно наследование?\n",
    "\n",
    "Наследование позволяет выделить общее для нескольких классов поведение и вынести его в отдельную сущность. То есть наследование является средством переиспользования кода - использования существующего кода для решения новых задач.\n",
    "\n",
    "Наследование позволяет получить новый класс, немного отличающийся от старого. При этом нам не нужно иметь доступ к коду исходного класса, а значит с помощью наследования мы можем адаптировать под наши задачи в том числе и чужие классы.\n",
    "\n",
    "## Примеры\n",
    "\n",
    "![Example](lec2-1.gif)\n",
    "\n",
    "Оптимус Прайм и Мегатрон — оба трансформеры, но один является автоботом, а второй десептиконом. Допустим, что различия между автоботами и десептиконами будут заключаться только в том, что автоботы трансформируются в автомобили, а десептиконы — в авиацию. Все остальные свойства и поведение не будут иметь никакой разницы. В таком случае можно спроектировать систему наследования так: общие черты (бег, стрельба) будут описаны в базовом классе «Трансформер», а различия (трансформация) в двух дочерних классах «Автобот» и «Десептикон».\n"
   ]
  },
  {
   "cell_type": "code",
   "execution_count": 4,
   "metadata": {},
   "outputs": [
    {
     "name": "stdout",
     "output_type": "stream",
     "text": [
      "Boom\n",
      "Name\n"
     ]
    }
   ],
   "source": [
    "class Transformer():\n",
    "    def __init__(self, name):\n",
    "        self.name = name\n",
    "\n",
    "    def run(self):\n",
    "        print('Run')\n",
    "    \n",
    "    def fire(self):\n",
    "        print('Boom')\n",
    "\n",
    "transformer = Transformer('Name')\n",
    "transformer.fire()\n",
    "print(transformer.name)"
   ]
  },
  {
   "cell_type": "code",
   "execution_count": 6,
   "metadata": {},
   "outputs": [
    {
     "name": "stdout",
     "output_type": "stream",
     "text": [
      "Kaboom\n"
     ]
    }
   ],
   "source": [
    "class Autobot(Transformer):\n",
    "    def __init__(self, name, prime_status):\n",
    "        super().__init__(name)\n",
    "        self.prime_status = prime_status\n",
    "\n",
    "    def fire(self):\n",
    "        print('Kaboom')\n",
    "    \n",
    "\n",
    "autobot = Autobot('Bamblbee', False)\n",
    "autobot.fire()"
   ]
  },
  {
   "cell_type": "code",
   "execution_count": 8,
   "metadata": {},
   "outputs": [
    {
     "name": "stdout",
     "output_type": "stream",
     "text": [
      "Transformed to tank\n",
      "Boom\n",
      "Run\n",
      "Shokweiv\n"
     ]
    }
   ],
   "source": [
    "class Decepticon(Transformer):\n",
    "    def transform(self, object):\n",
    "        print(f'Transformed to {object}')\n",
    "\n",
    "\n",
    "dec = Decepticon('Shokweiv')\n",
    "dec.transform('tank')\n",
    "dec.fire()\n",
    "dec.run()\n",
    "print(dec.name)"
   ]
  },
  {
   "cell_type": "code",
   "execution_count": 3,
   "metadata": {},
   "outputs": [
    {
     "name": "stdout",
     "output_type": "stream",
     "text": [
      "Меня зовут Димас, мне 13\n",
      "Я родился\n"
     ]
    }
   ],
   "source": [
    "class Person():\n",
    "    def __init__(self, name, age, hp, ksr):\n",
    "        self.name = name\n",
    "        self.age = age\n",
    "        self.hp = hp\n",
    "        self.ksr = ksr # KFC spawn rate\n",
    "    \n",
    "    def spawn(self):\n",
    "        print('Я родился')\n",
    "    \n",
    "    def kick(self):\n",
    "        ''' Скажет Smash! '''\n",
    "        print('Smash!')\n",
    "    \n",
    "person1 = Person('Димас', 13, 5, 100)\n",
    "print(f'Меня зовут {person1.name}, мне {person1.age}')\n",
    "person1.spawn()"
   ]
  },
  {
   "cell_type": "code",
   "execution_count": 4,
   "metadata": {},
   "outputs": [],
   "source": [
    "class Student(Person):\n",
    "    def __init__(self, name, age, hp, ksr, war_ticket):\n",
    "        super().__init__(name, age, hp, ksr)\n",
    "        self.war_ticket = war_ticket\n",
    "\n",
    "    def go_to_remi(self):\n",
    "        print('Я пошёл в РЕМИ')\n",
    "    \n",
    "    def say_my_name(self):\n",
    "        print(self.name)"
   ]
  },
  {
   "cell_type": "code",
   "execution_count": 5,
   "metadata": {},
   "outputs": [
    {
     "name": "stdout",
     "output_type": "stream",
     "text": [
      "Игорь придёшь ко мне после пары\n",
      "Отчислен\n"
     ]
    }
   ],
   "source": [
    "class Teacher(Person):\n",
    "    def oscarb(self, student):\n",
    "        print(f'{student.name} придёшь ко мне после пары')\n",
    "    \n",
    "    def kick(self):\n",
    "        ''' Скажет что ты отчислен '''\n",
    "        print('Отчислен')\n",
    "\n",
    "\n",
    "student1 = Student('Игорь', 19, 2, 1, True)\n",
    "\n",
    "teacher1 = Teacher('Олег', 45, 10, 3)\n",
    "\n",
    "teacher1.oscarb(student1)\n",
    "teacher1.kick()"
   ]
  },
  {
   "cell_type": "code",
   "execution_count": null,
   "metadata": {},
   "outputs": [
    {
     "name": "stdout",
     "output_type": "stream",
     "text": [
      "Герой из команды blue повысел уровень\n",
      "Герой из команды red повысел уровень\n",
      "Солдат с номером 492571 следует за героем с номером 703754\n"
     ]
    }
   ],
   "source": [
    "import random\n",
    "\n",
    "teams = ['white', 'blue', 'red']\n",
    "heroes = []\n",
    "\n",
    "white_soldiers = []\n",
    "\n",
    "blue_soldiers = []\n",
    "\n",
    "red_soldiers = []\n",
    "\n",
    "class Unit():\n",
    "    def __init__(self, team):\n",
    "        self.id = random.randint(0, 1000000)\n",
    "        self.team = team\n",
    "\n",
    "class Hero(Unit):\n",
    "    def __init__(self, team):\n",
    "        super().__init__(team)\n",
    "        self.level = 1\n",
    "\n",
    "    def level_up(self):\n",
    "        self.level += 1\n",
    "        print(f'Герой из команды {self.team} повысел уровень')\n",
    "\n",
    "class Soldier(Unit):\n",
    "    def follow(self, hero):\n",
    "        print(f'Солдат с номером {self.id} следует за героем с номером {hero.id}')\n",
    "\n",
    "\n",
    "for team in teams:\n",
    "    heroes.append(Hero(team))\n",
    "\n",
    "for i in range(100):\n",
    "    team = random.choice(teams)\n",
    "\n",
    "    match team:\n",
    "        case 'white':\n",
    "            white_soldiers.append(Soldier(team))\n",
    "        case 'blue':\n",
    "            blue_soldiers.append(Soldier(team))\n",
    "        case 'red':\n",
    "            red_soldiers.append(Soldier(team))\n",
    "\n",
    "white_length = len(white_soldiers)\n",
    "blue_length = len(blue_soldiers)\n",
    "red_length = len(red_soldiers)\n",
    "\n",
    "max_team = max(white_length, blue_length, red_length)\n",
    "\n",
    "for i, team in enumerate((white_soldiers, blue_soldiers, red_soldiers)):\n",
    "    team_length = len(team)\n",
    "    if team_length == max_team:\n",
    "        heroes[i].level_up()\n",
    "\n",
    "blue_soldiers[10].follow(heroes[1])\n"
   ]
  }
 ],
 "metadata": {
  "kernelspec": {
   "display_name": "Python 3",
   "language": "python",
   "name": "python3"
  },
  "language_info": {
   "codemirror_mode": {
    "name": "ipython",
    "version": 3
   },
   "file_extension": ".py",
   "mimetype": "text/x-python",
   "name": "python",
   "nbconvert_exporter": "python",
   "pygments_lexer": "ipython3",
   "version": "3.11.11"
  },
  "orig_nbformat": 4,
  "vscode": {
   "interpreter": {
    "hash": "1b032452825cfb918ba2aa96def1bfe72203d70ad656b993aaacfcdaaaef8735"
   }
  }
 },
 "nbformat": 4,
 "nbformat_minor": 2
}
