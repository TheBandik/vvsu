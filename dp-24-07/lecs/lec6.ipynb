{
 "cells": [
  {
   "cell_type": "markdown",
   "metadata": {},
   "source": [
    "# Дата-классы"
   ]
  },
  {
   "cell_type": "markdown",
   "metadata": {},
   "source": [
    "Часто есть потребность в хранении различных данных. Есть структура хранения простая, то можно хранить её в виде списка (кортежа) или словаря"
   ]
  },
  {
   "cell_type": "code",
   "execution_count": 11,
   "metadata": {},
   "outputs": [
    {
     "data": {
      "text/plain": [
       "('Капитанская дочка', 'Пушкин')"
      ]
     },
     "execution_count": 11,
     "metadata": {},
     "output_type": "execute_result"
    }
   ],
   "source": [
    "book = ('Капитанская дочка', 'Пушкин')\n",
    "book"
   ]
  },
  {
   "cell_type": "code",
   "execution_count": 12,
   "metadata": {},
   "outputs": [
    {
     "data": {
      "text/plain": [
       "'Пушкин'"
      ]
     },
     "execution_count": 12,
     "metadata": {},
     "output_type": "execute_result"
    }
   ],
   "source": [
    "book[1]"
   ]
  },
  {
   "cell_type": "code",
   "execution_count": 13,
   "metadata": {},
   "outputs": [
    {
     "data": {
      "text/plain": [
       "{'name': 'Капитанская дочка', 'author': 'Пушкин'}"
      ]
     },
     "execution_count": 13,
     "metadata": {},
     "output_type": "execute_result"
    }
   ],
   "source": [
    "book = {'name': 'Капитанская дочка', 'author': 'Пушкин'}\n",
    "book"
   ]
  },
  {
   "cell_type": "code",
   "execution_count": 14,
   "metadata": {},
   "outputs": [
    {
     "data": {
      "text/plain": [
       "'Капитанская дочка'"
      ]
     },
     "execution_count": 14,
     "metadata": {},
     "output_type": "execute_result"
    }
   ],
   "source": [
    "book['name']"
   ]
  },
  {
   "cell_type": "code",
   "execution_count": 15,
   "metadata": {},
   "outputs": [
    {
     "data": {
      "text/plain": [
       "(('Капитнаская дочка', 'Пушкин'), ('Смерть поэта', 'Лермонтов'))"
      ]
     },
     "execution_count": 15,
     "metadata": {},
     "output_type": "execute_result"
    }
   ],
   "source": [
    "books = (('Капитнаская дочка', 'Пушкин'), ('Смерть поэта', 'Лермонтов'))\n",
    "books"
   ]
  },
  {
   "cell_type": "code",
   "execution_count": 16,
   "metadata": {},
   "outputs": [
    {
     "data": {
      "text/plain": [
       "'Капитнаская дочка'"
      ]
     },
     "execution_count": 16,
     "metadata": {},
     "output_type": "execute_result"
    }
   ],
   "source": [
    "books[0][0]"
   ]
  },
  {
   "cell_type": "code",
   "execution_count": 17,
   "metadata": {},
   "outputs": [
    {
     "data": {
      "text/plain": [
       "({'name': 'Капитанская дочка', 'author': 'Пушкин'},\n",
       " {'name': 'Смерть поэта', 'author': 'Лермонтов'})"
      ]
     },
     "execution_count": 17,
     "metadata": {},
     "output_type": "execute_result"
    }
   ],
   "source": [
    "books = ({'name': 'Капитанская дочка', 'author': 'Пушкин'}, {'name': 'Смерть поэта', 'author': 'Лермонтов'})\n",
    "books"
   ]
  },
  {
   "cell_type": "markdown",
   "metadata": {},
   "source": [
    "Если структура хранения сложнее, можно использовать классы"
   ]
  },
  {
   "cell_type": "code",
   "execution_count": 18,
   "metadata": {},
   "outputs": [
    {
     "name": "stdout",
     "output_type": "stream",
     "text": [
      "Капитанская дочка, Пушкин\n"
     ]
    }
   ],
   "source": [
    "class Book():\n",
    "    def __init__(self, title, author):\n",
    "        self.title = title\n",
    "        self.author = author\n",
    "\n",
    "book = Book('Капитанская дочка', 'Пушкин')\n",
    "print(f'{book.title}, {book.author}')"
   ]
  },
  {
   "cell_type": "markdown",
   "metadata": {},
   "source": [
    "Уже на этом примере видна избыточность. Идентификаторы title и author используются несколько раз."
   ]
  },
  {
   "cell_type": "markdown",
   "metadata": {},
   "source": [
    "Специально для хранения данных в классах существуют дата-классы"
   ]
  },
  {
   "cell_type": "code",
   "execution_count": 19,
   "metadata": {},
   "outputs": [
    {
     "data": {
      "text/plain": [
       "'Капитанская дочка'"
      ]
     },
     "execution_count": 19,
     "metadata": {},
     "output_type": "execute_result"
    }
   ],
   "source": [
    "from dataclasses import dataclass\n",
    "\n",
    "\n",
    "@dataclass\n",
    "class Book:\n",
    "    title: str\n",
    "    author: str\n",
    "\n",
    "book = Book('Капитанская дочка', 'Пушкин')\n",
    "\n",
    "book.title"
   ]
  },
  {
   "cell_type": "markdown",
   "metadata": {},
   "source": [
    "Важно отметить, что аннотации типов обязательны. Все поля, которые не имеют отметок о типе будут проигнорированы. Конечно, если вы не хотите использовать конкретный тип, вы можете указать Any из модуля typing"
   ]
  },
  {
   "cell_type": "code",
   "execution_count": 20,
   "metadata": {},
   "outputs": [
    {
     "name": "stdout",
     "output_type": "stream",
     "text": [
      "Пушкин\n",
      "69\n"
     ]
    }
   ],
   "source": [
    "import typing\n",
    "\n",
    "\n",
    "@dataclass\n",
    "class Book:\n",
    "    title: str\n",
    "    author: typing.Any\n",
    "\n",
    "book = Book('Капитанская дочка', 'Пушкин')\n",
    "book1 = Book('Капитанская дочка', 69)\n",
    "\n",
    "print(book.author)\n",
    "print(book1.author)"
   ]
  },
  {
   "cell_type": "code",
   "execution_count": 21,
   "metadata": {},
   "outputs": [
    {
     "name": "stdout",
     "output_type": "stream",
     "text": [
      "10 0\n"
     ]
    }
   ],
   "source": [
    "@dataclass\n",
    "class Point:\n",
    "    x: int = 10\n",
    "    y: int = 34\n",
    "\n",
    "point = Point(y=0)\n",
    "\n",
    "print(point.x, point.y)"
   ]
  },
  {
   "cell_type": "markdown",
   "metadata": {},
   "source": [
    "### Параметры дата-классов"
   ]
  },
  {
   "cell_type": "markdown",
   "metadata": {},
   "source": [
    "Список параметров:\n",
    "+ frozen - при создании класса, если вы попытаетесь изменять его поля, выбросится исключение \n",
    "+ init - если он равен True (по умолчанию), генерируется метод __init__. Если у класса уже определен метод __init__, параметр игнорируется\n",
    "+ repr - включает (по умолчанию) создание метода __repr__. Сгенерированная строка содержит имя класса и название и представление всех полей, определенных в классе. При этом можно исключить отдельные поля\n",
    "+ eq - включает (по умолчанию) создание метода __eq__. Объекты сравниваются так же, как если бы это были кортежи, содержащие соответствующие значения полей. Дополнительно проверяется совпадение типов.\n",
    "+ order - включает (по умолчанию выключен) создание методов __lt__, __le__, __gt__ и __ge__. Объекты сравниваются так же, как соответствующие кортежи из значений полей. \n",
    "+ unsafe_hash - влияет на генерацию метода __hash__"
   ]
  },
  {
   "cell_type": "code",
   "execution_count": 23,
   "metadata": {},
   "outputs": [
    {
     "name": "stdout",
     "output_type": "stream",
     "text": [
      "Капитанская дочка\n",
      "cannot assign to field 'title'\n"
     ]
    }
   ],
   "source": [
    "@dataclass(frozen=True)\n",
    "class Book:\n",
    "    title: str\n",
    "    author: str\n",
    "\n",
    "book = Book('Капитанская дочка', 'Пушкин')\n",
    "\n",
    "print(book.title)\n",
    "\n",
    "try:\n",
    "    book.title = 'Медный всадник'\n",
    "except Exception as e:\n",
    "    print(e)"
   ]
  },
  {
   "cell_type": "code",
   "execution_count": null,
   "metadata": {},
   "outputs": [
    {
     "data": {
      "text/plain": [
       "\"Book(title='Капитанская дочка', author='Пушкин')\""
      ]
     },
     "execution_count": 33,
     "metadata": {},
     "output_type": "execute_result"
    }
   ],
   "source": [
    "book.__repr__()"
   ]
  },
  {
   "cell_type": "code",
   "execution_count": null,
   "metadata": {},
   "outputs": [
    {
     "data": {
      "text/plain": [
       "Book(title='Капитанская дочка', author='Пушкин')"
      ]
     },
     "execution_count": 35,
     "metadata": {},
     "output_type": "execute_result"
    }
   ],
   "source": [
    "book"
   ]
  },
  {
   "cell_type": "code",
   "execution_count": null,
   "metadata": {},
   "outputs": [
    {
     "name": "stdout",
     "output_type": "stream",
     "text": [
      "Капитанская дочка\n"
     ]
    }
   ],
   "source": [
    "@dataclass(repr=False)\n",
    "class Book:\n",
    "    title: str\n",
    "    author: str\n",
    "\n",
    "book = Book('Капитанская дочка', 'Пушкин')\n",
    "\n",
    "print(book.title)"
   ]
  },
  {
   "cell_type": "code",
   "execution_count": null,
   "metadata": {},
   "outputs": [
    {
     "data": {
      "text/plain": [
       "'<__main__.Book object at 0x0000023B990C3040>'"
      ]
     },
     "execution_count": 39,
     "metadata": {},
     "output_type": "execute_result"
    }
   ],
   "source": [
    "book.__repr__()"
   ]
  },
  {
   "cell_type": "code",
   "execution_count": null,
   "metadata": {},
   "outputs": [
    {
     "data": {
      "text/plain": [
       "<__main__.Book at 0x23b990c3040>"
      ]
     },
     "execution_count": 37,
     "metadata": {},
     "output_type": "execute_result"
    }
   ],
   "source": [
    "book"
   ]
  },
  {
   "cell_type": "code",
   "execution_count": 24,
   "metadata": {},
   "outputs": [
    {
     "data": {
      "text/plain": [
       "False"
      ]
     },
     "execution_count": 24,
     "metadata": {},
     "output_type": "execute_result"
    }
   ],
   "source": [
    "@dataclass()\n",
    "class Book:\n",
    "    title: str\n",
    "    author: str\n",
    "\n",
    "book = Book('Капитанская дочка', 'Пушкин')\n",
    "book1 = Book('Капитанская дочка', 'Пушкин')\n",
    "\n",
    "book == book1"
   ]
  },
  {
   "cell_type": "code",
   "execution_count": 28,
   "metadata": {},
   "outputs": [
    {
     "data": {
      "text/plain": [
       "True"
      ]
     },
     "execution_count": 28,
     "metadata": {},
     "output_type": "execute_result"
    }
   ],
   "source": [
    "@dataclass(eq=False, repr=False)\n",
    "class Book:\n",
    "    title: str\n",
    "    author: str\n",
    "\n",
    "book = Book('Капитанская дочка', 'Пушкин')\n",
    "book1 = book\n",
    "\n",
    "book == book1"
   ]
  },
  {
   "cell_type": "code",
   "execution_count": 29,
   "metadata": {},
   "outputs": [
    {
     "name": "stdout",
     "output_type": "stream",
     "text": [
      "<__main__.Book object at 0x0000023E2B4A2950>\n",
      "<__main__.Book object at 0x0000023E2B4A2950>\n"
     ]
    }
   ],
   "source": [
    "print(book)\n",
    "print(book1)"
   ]
  },
  {
   "cell_type": "code",
   "execution_count": null,
   "metadata": {},
   "outputs": [
    {
     "name": "stdout",
     "output_type": "stream",
     "text": [
      "'>' not supported between instances of 'Vector' and 'Vector'\n"
     ]
    }
   ],
   "source": [
    "@dataclass()\n",
    "class Vector:\n",
    "    x: int\n",
    "    y: int\n",
    "\n",
    "v1 = Vector(8, 15)\n",
    "v2 = Vector(7, 20)\n",
    "\n",
    "try:\n",
    "    print(v2 > v1)\n",
    "except Exception as e:\n",
    "    print(e)"
   ]
  },
  {
   "cell_type": "code",
   "execution_count": null,
   "metadata": {},
   "outputs": [
    {
     "name": "stdout",
     "output_type": "stream",
     "text": [
      "True\n",
      "True\n",
      "False\n",
      "False\n"
     ]
    }
   ],
   "source": [
    "@dataclass(order=True)\n",
    "class Vector:\n",
    "    x: int\n",
    "    y: int\n",
    "\n",
    "v1 = Vector(8, 15)\n",
    "v2 = Vector(7, 20)\n",
    "\n",
    "try:\n",
    "    # __lt__\n",
    "    print(v2 < v1)\n",
    "    # __le__\n",
    "    print(v2 <= v1)\n",
    "    # __gt__\n",
    "    print(v2 > v1)\n",
    "    # __ge__\n",
    "    print(v2 >= v1)\n",
    "except Exception as e:\n",
    "    print(e)"
   ]
  },
  {
   "cell_type": "code",
   "execution_count": null,
   "metadata": {},
   "outputs": [
    {
     "name": "stdout",
     "output_type": "stream",
     "text": [
      "153438436030\n",
      "153438436012\n",
      "153438436030\n",
      "True\n"
     ]
    }
   ],
   "source": [
    "@dataclass(order=False, eq=False)\n",
    "class Vector:\n",
    "    x: int\n",
    "    y: int\n",
    "\n",
    "v1 = Vector(8, 15)\n",
    "v2 = Vector(7, 20)\n",
    "v3 = v1\n",
    "\n",
    "print(v1.__hash__())\n",
    "print(v2.__hash__())\n",
    "print(v3.__hash__())\n",
    "\n",
    "print(v1.__hash__() == v3.__hash__())\n"
   ]
  },
  {
   "cell_type": "markdown",
   "metadata": {},
   "source": [
    "### Наследование"
   ]
  },
  {
   "cell_type": "code",
   "execution_count": null,
   "metadata": {},
   "outputs": [
    {
     "name": "stdout",
     "output_type": "stream",
     "text": [
      "BaseBook(title='Капитанская дочка', author='Пушкин')\n",
      "Book(title='Смерть поэта', author='Лермонтов', desc='Стих')\n"
     ]
    }
   ],
   "source": [
    "@dataclass\n",
    "class BaseBook:\n",
    "    title: typing.Any\n",
    "    author: str\n",
    "\n",
    "@dataclass\n",
    "class Book(BaseBook):\n",
    "    desc: str\n",
    "    title: str\n",
    "\n",
    "base_book = BaseBook('Капитанская дочка', 'Пушкин')\n",
    "print(base_book)\n",
    "\n",
    "book = Book('Смерть поэта', 'Лермонтов', 'Стих')\n",
    "print(book)"
   ]
  },
  {
   "cell_type": "markdown",
   "metadata": {},
   "source": [
    "### Конвертация в словарь или кортеж"
   ]
  },
  {
   "cell_type": "markdown",
   "metadata": {},
   "source": [
    "Можно получить атрибуты Data Class в кортеже или словаре. Для этого нужно лишь импортировать функции asdict и astuple из Data Class."
   ]
  },
  {
   "cell_type": "code",
   "execution_count": null,
   "metadata": {},
   "outputs": [
    {
     "name": "stdout",
     "output_type": "stream",
     "text": [
      "{'x': 4, 'y': 5, 'z': 7}\n",
      "(4, 5, 7)\n"
     ]
    }
   ],
   "source": [
    "from dataclasses import asdict, astuple\n",
    "\n",
    "@dataclass\n",
    "class Vector:\n",
    "    x: int\n",
    "    y: int\n",
    "    z: int\n",
    "\n",
    "v = Vector(4, 5, 7)\n",
    "\n",
    "print(asdict(v))\n",
    "print(astuple(v))"
   ]
  },
  {
   "cell_type": "code",
   "execution_count": null,
   "metadata": {},
   "outputs": [
    {
     "data": {
      "text/plain": [
       "{'x': 4, 'y': 5, 'z': 7}"
      ]
     },
     "execution_count": 81,
     "metadata": {},
     "output_type": "execute_result"
    }
   ],
   "source": [
    "v.__dict__"
   ]
  },
  {
   "cell_type": "code",
   "execution_count": null,
   "metadata": {},
   "outputs": [
    {
     "data": {
      "text/plain": [
       "{'title': 'Капитанская дочка', 'author': 'Пушкин'}"
      ]
     },
     "execution_count": 83,
     "metadata": {},
     "output_type": "execute_result"
    }
   ],
   "source": [
    "class Book():\n",
    "    def __init__(self, title, author):\n",
    "        self.title = title\n",
    "        self.author = author\n",
    "\n",
    "book = Book('Капитанская дочка', 'Пушкин')\n",
    "\n",
    "book.__dict__"
   ]
  },
  {
   "cell_type": "markdown",
   "metadata": {},
   "source": [
    "### Причины использовать дата-классы"
   ]
  },
  {
   "cell_type": "markdown",
   "metadata": {},
   "source": [
    "#### Меньше кода для определения класса"
   ]
  },
  {
   "cell_type": "code",
   "execution_count": null,
   "metadata": {},
   "outputs": [],
   "source": [
    "class Person():\n",
    "    def __init__(self, name, age, hp, ksr):\n",
    "        self.name = name\n",
    "        self.age = age\n",
    "        self.hp = hp\n",
    "        self.ksr = ksr\n",
    "\n",
    "class Student(Person):\n",
    "    def __init__(self, name, age, hp, ksr, war_ticket):\n",
    "        super().__init__(name, age, hp, ksr)\n",
    "        self.war_ticket = war_ticket"
   ]
  },
  {
   "cell_type": "code",
   "execution_count": null,
   "metadata": {},
   "outputs": [],
   "source": [
    "@dataclass\n",
    "class Person:\n",
    "    name: str\n",
    "    age: int\n",
    "    hp: int\n",
    "    ksr: int\n",
    "\n",
    "@dataclass\n",
    "class Student(Person):\n",
    "    war_ticket: bool"
   ]
  },
  {
   "cell_type": "markdown",
   "metadata": {},
   "source": [
    "#### Поддержка значений по умолчанию"
   ]
  },
  {
   "cell_type": "code",
   "execution_count": 30,
   "metadata": {},
   "outputs": [],
   "source": [
    "class Person():\n",
    "    def __init__(self, age, hp, ksr, name = 'Вася'):\n",
    "        self.name = name\n",
    "        self.age = age\n",
    "        self.hp = hp\n",
    "        self.ksr = ksr\n",
    "\n",
    "class Student(Person):\n",
    "    def __init__(self, name, age, hp, ksr, war_ticket):\n",
    "        super().__init__(name, age, hp, ksr)\n",
    "        self.war_ticket = war_ticket"
   ]
  },
  {
   "cell_type": "code",
   "execution_count": null,
   "metadata": {},
   "outputs": [],
   "source": [
    "@dataclass\n",
    "class Person:\n",
    "    age: int\n",
    "    hp: int\n",
    "    ksr: int\n",
    "    name: str = 'Вася'\n",
    "\n",
    "@dataclass\n",
    "class Student(Person):\n",
    "    war_ticket: bool = 0"
   ]
  },
  {
   "cell_type": "markdown",
   "metadata": {},
   "source": [
    "#### Методы repr, eq по умолчанию"
   ]
  },
  {
   "cell_type": "code",
   "execution_count": null,
   "metadata": {},
   "outputs": [
    {
     "name": "stdout",
     "output_type": "stream",
     "text": [
      "<__main__.Book object at 0x0000023B9BD9ACA0>\n",
      "False\n"
     ]
    }
   ],
   "source": [
    "class Book():\n",
    "    def __init__(self, title, author):\n",
    "        self.title = title\n",
    "        self.author = author\n",
    "\n",
    "book = Book('Капитанская дочка', 'Пушкин')\n",
    "book1 = Book('Капитанская дочка', 'Пушкин')\n",
    "\n",
    "print(book)\n",
    "print(book == book1)"
   ]
  },
  {
   "cell_type": "code",
   "execution_count": null,
   "metadata": {},
   "outputs": [
    {
     "name": "stdout",
     "output_type": "stream",
     "text": [
      "Book(title='Капитанская дочка', author='Пушкин')\n",
      "True\n"
     ]
    }
   ],
   "source": [
    "@dataclass\n",
    "class Book:\n",
    "    title: str\n",
    "    author: str\n",
    "\n",
    "book = Book('Капитанская дочка', 'Пушкин')\n",
    "book1 = Book('Капитанская дочка', 'Пушкин')\n",
    "\n",
    "print(book)\n",
    "print(book == book1)"
   ]
  },
  {
   "cell_type": "markdown",
   "metadata": {},
   "source": [
    "#### Замороженные экземпляры/неизменяемые объекты"
   ]
  },
  {
   "cell_type": "code",
   "execution_count": null,
   "metadata": {},
   "outputs": [
    {
     "name": "stdout",
     "output_type": "stream",
     "text": [
      "Капитанская дочка\n",
      "cannot assign to field 'title'\n"
     ]
    }
   ],
   "source": [
    "@dataclass(frozen=True)\n",
    "class Book:\n",
    "    title: str\n",
    "    author: str\n",
    "\n",
    "book = Book('Капитанская дочка', 'Пушкин')\n",
    "\n",
    "print(book.title)\n",
    "\n",
    "try:\n",
    "    book.title = 'Медный всадник'\n",
    "except Exception as e:\n",
    "    print(e)"
   ]
  },
  {
   "cell_type": "markdown",
   "metadata": {},
   "source": [
    "# Магические методы"
   ]
  },
  {
   "cell_type": "markdown",
   "metadata": {},
   "source": [
    "Это специальные методы, с помощью которых вы можете добавить в ваши классы «магию». Они всегда обрамлены двумя нижними подчеркиваниями (например, __init__ или __lt__)"
   ]
  },
  {
   "cell_type": "markdown",
   "metadata": {},
   "source": [
    "### Конструирование и инициализация"
   ]
  },
  {
   "cell_type": "markdown",
   "metadata": {},
   "source": [
    "`__new__` - Это первый метод, который будет вызван при инициализации объекта. Он принимает в качестве параметров класс и потом любые другие аргументы, которые будут переданы в конструктор\n",
    "\n",
    "`__init__` - конструктор\n",
    "\n",
    "`__del__` - деструктор (запускат при закрытии программы)"
   ]
  },
  {
   "cell_type": "code",
   "execution_count": 33,
   "metadata": {},
   "outputs": [],
   "source": [
    "class Book():\n",
    "    def __init__(self, title, author):\n",
    "        self.title = title\n",
    "        self.author = author\n",
    "\n",
    "book = Book('Капитанская дочка', 'Пушкин')"
   ]
  },
  {
   "cell_type": "markdown",
   "metadata": {},
   "source": [
    "### Магические методы сравнения"
   ]
  },
  {
   "cell_type": "markdown",
   "metadata": {},
   "source": [
    "`__eq__`(self, other)\n",
    "Определяет поведение оператора равенства, ==.\n",
    "\n",
    "`__ne__`(self, other)\n",
    "Определяет поведение оператора неравенства, !=.\n",
    "\n",
    "`__lt__`(self, other)\n",
    "Определяет поведение оператора меньше, <.\n",
    "\n",
    "`__gt__`(self, other)\n",
    "Определяет поведение оператора больше, >.\n",
    "\n",
    "`__le__`(self, other)\n",
    "Определяет поведение оператора меньше или равно, <=.\n",
    "\n",
    "`__ge__`(self, other)\n",
    "Определяет поведение оператора больше или равно, >=."
   ]
  },
  {
   "cell_type": "code",
   "execution_count": 49,
   "metadata": {},
   "outputs": [
    {
     "name": "stdout",
     "output_type": "stream",
     "text": [
      "Меньше\n",
      "False\n"
     ]
    }
   ],
   "source": [
    "class Word(str):\n",
    "    def __gt__(self, other):\n",
    "        return len(self) > len(other)\n",
    "    def __lt__(self, other):\n",
    "        return 'Меньше'\n",
    "    def __ge__(self, other):\n",
    "        return len(self) >= len(other)\n",
    "    def __le__(self, other):\n",
    "        return len(self) <= len(other)\n",
    "\n",
    "a = Word('Привет')\n",
    "b = Word('Пока')\n",
    "\n",
    "print(a < b)\n",
    "print(a == b)"
   ]
  },
  {
   "cell_type": "markdown",
   "metadata": {},
   "source": [
    "### Числовые магические методы"
   ]
  },
  {
   "cell_type": "markdown",
   "metadata": {},
   "source": [
    "#### Унарные"
   ]
  },
  {
   "cell_type": "markdown",
   "metadata": {},
   "source": [
    "`__pos__`(self)\n",
    "Определяет поведение для унарного плюса (+some_object)\n",
    "\n",
    "`__neg__`(self)\n",
    "Определяет поведение для отрицания(-some_object)\n",
    "\n",
    "`__abs__`(self)\n",
    "Определяет поведение для встроенной функции abs().\n",
    "\n",
    "`__round__`(self, n)\n",
    "Определяет поведение для встроенной функции round(). n это число знаков после запятой, до которого округлить."
   ]
  },
  {
   "cell_type": "code",
   "execution_count": null,
   "metadata": {},
   "outputs": [
    {
     "name": "stdout",
     "output_type": "stream",
     "text": [
      "4\n",
      "1\n",
      "-3\n",
      "Не умею :(\n"
     ]
    }
   ],
   "source": [
    "class Digit(int):\n",
    "\n",
    "    def __pos__(self):\n",
    "        return self + 1\n",
    "\n",
    "    def __neg__(self):\n",
    "        return self - 2\n",
    "    \n",
    "    def __abs__(self):\n",
    "        return self * -1\n",
    "    \n",
    "    def __round__(self):\n",
    "        return 'Не умею :('\n",
    "\n",
    "a = Digit(3)\n",
    "print(+a)\n",
    "print(-a)\n",
    "print(abs(a))\n",
    "print(round(a))"
   ]
  },
  {
   "cell_type": "markdown",
   "metadata": {},
   "source": [
    "#### Арифметические операторы"
   ]
  },
  {
   "cell_type": "markdown",
   "metadata": {},
   "source": [
    "`__add__`(self, other)\n",
    "Сложение.\n",
    "\n",
    "`__sub__`(self, other)\n",
    "Вычитание.\n",
    "\n",
    "`__mul__`(self, other)\n",
    "Умножение.\n",
    "\n",
    "`__floordiv__`(self, other)\n",
    "Целочисленное деление, оператор //.\n",
    "\n",
    "`__div__`(self, other)\n",
    "Деление, оператор /.\n",
    "\n",
    "`__mod__`(self, other)\n",
    "Остаток от деления, оператор %.\n",
    "\n",
    "`__pow__`\n",
    "Возведение в степень, оператор **."
   ]
  },
  {
   "cell_type": "code",
   "execution_count": 44,
   "metadata": {},
   "outputs": [
    {
     "name": "stdout",
     "output_type": "stream",
     "text": [
      "6\n",
      "9\n"
     ]
    }
   ],
   "source": [
    "class Digit():\n",
    "    def __init__(self, number):\n",
    "        self.value = number\n",
    "    \n",
    "    def __add__(self, other):\n",
    "        if type(other) is str or type(self) is str:\n",
    "            return int(self.value) + int(other)\n",
    "        else:\n",
    "            return self.value + other\n",
    "    \n",
    "    def __pow__(self, other):\n",
    "        return self.value ** 2\n",
    "\n",
    "a = Digit(3)\n",
    "print(a + '3')\n",
    "\n",
    "print(a ** 421412321)"
   ]
  },
  {
   "cell_type": "markdown",
   "metadata": {},
   "source": [
    "#### Методы преобразования типов"
   ]
  },
  {
   "cell_type": "markdown",
   "metadata": {},
   "source": [
    "`__int__`(self)\n",
    "Преобразование типа в int.\n",
    "\n",
    "`__float__`(self)\n",
    "Преобразование типа в float.\n",
    "\n",
    "`__oct__`(self)\n",
    "Преобразование типа в восьмеричное число.\n",
    "\n",
    "`__hex__`(self)\n",
    "Преобразование типа в шестнадцатиричное число."
   ]
  },
  {
   "cell_type": "code",
   "execution_count": null,
   "metadata": {},
   "outputs": [
    {
     "name": "stdout",
     "output_type": "stream",
     "text": [
      "Перевод в вещественное число\n",
      "3.0\n"
     ]
    }
   ],
   "source": [
    "class Digit():\n",
    "    def __init__(self, number):\n",
    "        self.value = number\n",
    "    \n",
    "    def __float__(self):\n",
    "        print('Перевод в вещественное число')\n",
    "        return float(self.value)\n",
    "\n",
    "a = Digit(3)\n",
    "print(float(a))"
   ]
  },
  {
   "cell_type": "markdown",
   "metadata": {},
   "source": [
    "#### Предоставление своих классов\n"
   ]
  },
  {
   "cell_type": "markdown",
   "metadata": {},
   "source": [
    "`__str__`(self)\n",
    "Определяет поведение функции str(), вызванной для экземпляра вашего класса.\n",
    "\n",
    "`__repr__`(self)\n",
    "Определяет поведение функции repr(), вызыванной для экземпляра вашего класса. Главное отличие от str() в целевой аудитории. repr() больше предназначен для машинно-ориентированного вывода (более того, это часто должен быть валидный код на Питоне), а str() предназначен для чтения людьми."
   ]
  },
  {
   "cell_type": "code",
   "execution_count": 45,
   "metadata": {},
   "outputs": [
    {
     "name": "stdout",
     "output_type": "stream",
     "text": [
      "Этот класс содержит значение 3\n",
      "{'value': 3}\n"
     ]
    }
   ],
   "source": [
    "class Digit():\n",
    "    def __init__(self, number):\n",
    "        self.value = number\n",
    "    \n",
    "    def __str__(self):\n",
    "        return f'Этот класс содержит значение {self.value}'\n",
    "    \n",
    "    def __repr__(self):\n",
    "        return str(self.__dict__)\n",
    "\n",
    "a = Digit(3)\n",
    "print(a.__str__())\n",
    "print(a.__repr__())"
   ]
  },
  {
   "cell_type": "code",
   "execution_count": 46,
   "metadata": {},
   "outputs": [
    {
     "data": {
      "text/plain": [
       "{'value': 3}"
      ]
     },
     "execution_count": 46,
     "metadata": {},
     "output_type": "execute_result"
    }
   ],
   "source": [
    "a"
   ]
  },
  {
   "cell_type": "markdown",
   "metadata": {},
   "source": [
    "#### Контроль доступа к атрибутам"
   ]
  },
  {
   "cell_type": "markdown",
   "metadata": {},
   "source": [
    "`__getattr__`(self, name)\n",
    "Вы можете определить поведение для случая, когда пользователь пытается обратиться к атрибуту, который не существует (совсем или пока ещё).\n",
    "\n",
    "`__setattr__`(self, name, value)\n",
    "Этот метод позволяет вам определить поведение для присвоения значения атрибуту, независимо от того существует атрибут или нет. "
   ]
  },
  {
   "cell_type": "code",
   "execution_count": 48,
   "metadata": {},
   "outputs": [
    {
     "name": "stdout",
     "output_type": "stream",
     "text": [
      "Новое значение 3 для атрибута value\n",
      "Нет атрибута с именем ger\n",
      "Новое значение 5 для атрибута value\n",
      "Нет атрибута с именем ger\n"
     ]
    }
   ],
   "source": [
    "class Digit():\n",
    "    def __init__(self, number):\n",
    "        self.value = number\n",
    "    \n",
    "    def __getattr__(self, name):\n",
    "        print(f'Нет атрибута с именем {name}')\n",
    "    \n",
    "    def __setattr__(self, name, value):\n",
    "        if name == 'value':\n",
    "            print(f'Новое значение {value} для атрибута {name}')\n",
    "        else:\n",
    "            return self.__getattr__(name)\n",
    "\n",
    "a = Digit(3)\n",
    "a.ger\n",
    "a.value = 5\n",
    "a.ger = 6"
   ]
  }
 ],
 "metadata": {
  "kernelspec": {
   "display_name": "Python 3.11.0 64-bit",
   "language": "python",
   "name": "python3"
  },
  "language_info": {
   "codemirror_mode": {
    "name": "ipython",
    "version": 3
   },
   "file_extension": ".py",
   "mimetype": "text/x-python",
   "name": "python",
   "nbconvert_exporter": "python",
   "pygments_lexer": "ipython3",
   "version": "3.11.0"
  },
  "orig_nbformat": 4,
  "vscode": {
   "interpreter": {
    "hash": "1b032452825cfb918ba2aa96def1bfe72203d70ad656b993aaacfcdaaaef8735"
   }
  }
 },
 "nbformat": 4,
 "nbformat_minor": 2
}
